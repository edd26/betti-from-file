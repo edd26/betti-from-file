{
 "cells": [
  {
   "cell_type": "code",
   "execution_count": null,
   "metadata": {},
   "outputs": [],
   "source": [
    "using Pkg\n",
    "\n",
    "function install_missing_package(package_name::String)\n",
    "    if !haskey(Pkg.installed(), package_name)\n",
    "        println(\"Package \\\"\"*package_name*\"\\\" is missing.\")\n",
    "        println(\"Installing package...\")\n",
    "        Pkg.add(package_name)\n",
    "    else\n",
    "        println(\"Package \\\"\"*package_name*\"\\\" is already installed.\")\n",
    "    end\n",
    "     println(\"=======================================================\")\n",
    "end\n",
    "\n",
    "install_missing_package(\"Eirene\")\n",
    "install_missing_package(\"DelimitedFiles\")\n",
    "install_missing_package(\"PyCall\")\n",
    "install_missing_package(\"Plots\")"
   ]
  },
  {
   "cell_type": "markdown",
   "metadata": {},
   "source": [
    "# Load packages\n",
    "Notice 1: Eirene is precompiling at every restart of kernel\n",
    "\n",
    "Notice 2: Some warnings may occur during the Eirene precompilation. This is beacuse of unfixed Eirene issues. Despite the warnings, library should work fine."
   ]
  },
  {
   "cell_type": "code",
   "execution_count": null,
   "metadata": {},
   "outputs": [],
   "source": [
    "using DelimitedFiles\n",
    "using PyCall\n",
    "using Plots\n",
    "using Eirene"
   ]
  },
  {
   "cell_type": "markdown",
   "metadata": {},
   "source": [
    "# Load file:"
   ]
  },
  {
   "cell_type": "markdown",
   "metadata": {},
   "source": [
    "## a) from \".npy\" file with numpy:\n",
    "Notice: \"SyllableEncoding.npy\" is not included in the repository"
   ]
  },
  {
   "cell_type": "code",
   "execution_count": null,
   "metadata": {},
   "outputs": [],
   "source": [
    "PyAny = py\"\"\"\n",
    "        import numpy as np\n",
    "        import matplotlib.pyplot as plt\n",
    "\n",
    "        file_name = \"SyllableEncoding.npy\"\n",
    "\n",
    "        py_symm_matrtix = np.load(file_name, allow_pickle=True, encoding=\"latin1\")\n",
    "        \"\"\"\n",
    "py_symmetric_matrtix = PyArray(py\"py_symm_matrtix\"o)\n",
    "symmetric_matrix = Array(py_symmetric_matrtix)"
   ]
  },
  {
   "cell_type": "markdown",
   "metadata": {},
   "source": [
    "## b) from \".txt\" or \".csv\" file with julia:"
   ]
  },
  {
   "cell_type": "code",
   "execution_count": null,
   "metadata": {},
   "outputs": [],
   "source": [
    "file_name = \"geometric_matrix.csv\"\n",
    "symmetric_matrix = readdlm( file_name, ',', Float64, '\\n')"
   ]
  },
  {
   "cell_type": "markdown",
   "metadata": {},
   "source": [
    "# Preprocessing"
   ]
  },
  {
   "cell_type": "markdown",
   "metadata": {},
   "source": [
    "## Ordering of the matrix"
   ]
  },
  {
   "cell_type": "code",
   "execution_count": null,
   "metadata": {},
   "outputs": [],
   "source": [
    "function get_ordered_matrix(input_matrix)\n",
    "    mat_size = size(input_matrix,1)\n",
    "    ordered_matrix = zeros(Int, mat_size, mat_size)\n",
    "\n",
    "    # ====\n",
    "    # Get all cartesian indices from input matrix\n",
    "    matrix_indices = CartesianIndices((1:mat_size, 1:mat_size))\n",
    "    # Filter out indices below diagonal\n",
    "    matrix_indices = findall(x->x[1]>x[2], matrix_indices)\n",
    "\n",
    "    # Count elements above diagonal\n",
    "    repetition_number = Int(ceil((mat_size * (mat_size-1))/2))\n",
    "   \n",
    "    # Get all values which will be sorted\n",
    "    sorted_values = input_matrix[matrix_indices]\n",
    "\n",
    "    # Sort indices by values (starting with lowest)\n",
    "    ordered_indices = sort!([1:repetition_number;],\n",
    "                        by=i->(sorted_values[i],matrix_indices[i]))\n",
    "\n",
    "    for k=1:repetition_number\n",
    "        next_position = ordered_indices[k]\n",
    "        matrix_index = matrix_indices[next_position]\n",
    "        ordered_matrix[matrix_index] = k\n",
    "        ordered_matrix[matrix_index[2], matrix_index[1]] = k\n",
    "    end\n",
    "\n",
    "    # ====\n",
    "    # Check the ordering\n",
    "    non_zero_input = findall(x->x!=0,input_matrix)\n",
    "    min_orig = findmin(input_matrix[non_zero_input])[2]\n",
    "    max_new = findall(x->x==1,ordered_matrix)[1]\n",
    "    println(\"Check:\")\n",
    "    println(\"\\tOriginal minimal value was at position: \\t\"*string(non_zero_input[min_orig]))\n",
    "    println(\"\\tAfter ordering the first index value is at position: \\t\"*string(max_new))\n",
    "    return ordered_matrix\n",
    "end"
   ]
  },
  {
   "cell_type": "markdown",
   "metadata": {},
   "source": [
    "### Simple check of ordering"
   ]
  },
  {
   "cell_type": "code",
   "execution_count": null,
   "metadata": {},
   "outputs": [],
   "source": [
    "a = [ 0 11 12;\n",
    "     11  0 13;\n",
    "     12 13  0];\n",
    "get_ordered_matrix(a)"
   ]
  },
  {
   "cell_type": "markdown",
   "metadata": {},
   "source": [
    "## Order input matrix"
   ]
  },
  {
   "cell_type": "code",
   "execution_count": null,
   "metadata": {},
   "outputs": [],
   "source": [
    "las_index = 60\n",
    "ordered_matrix = get_ordered_matrix(symmetric_matrix[1:las_index,1:las_index])"
   ]
  },
  {
   "cell_type": "markdown",
   "metadata": {},
   "source": [
    "# Topological analysis"
   ]
  },
  {
   "cell_type": "markdown",
   "metadata": {},
   "source": [
    "## Use Eirene"
   ]
  },
  {
   "cell_type": "code",
   "execution_count": null,
   "metadata": {},
   "outputs": [],
   "source": [
    "maximal_dimension = 5\n",
    "\n",
    "persistance_analysis = eirene(ordered_matrix,maxdim=maximal_dimension)"
   ]
  },
  {
   "cell_type": "markdown",
   "metadata": {},
   "source": [
    "## Compute Betti curves"
   ]
  },
  {
   "cell_type": "code",
   "execution_count": null,
   "metadata": {},
   "outputs": [],
   "source": [
    "minimal_betti = 1\n",
    "maximal_betti = maximal_dimension\n",
    "\n",
    "bettis  = Matrix{Float64}[]\n",
    "for d =minimal_betti:(maximal_betti+1)\n",
    "    result = betticurve(persistance_analysis, dim=d)\n",
    "    push!(bettis, result)\n",
    "end\n",
    "# bettis"
   ]
  },
  {
   "cell_type": "markdown",
   "metadata": {},
   "source": [
    "## Plot betti curves"
   ]
  },
  {
   "cell_type": "code",
   "execution_count": null,
   "metadata": {},
   "outputs": [],
   "source": [
    "plot_ref = plot(title=\"\");\n",
    "\n",
    "for p = (minimal_betti):(maximal_betti)\n",
    "    plot!(bettis[p][:,1], bettis[p][:,2], label=\"\\\\beta_\"*string(p),)\n",
    "end\n",
    "\n",
    "plot_ref"
   ]
  },
  {
   "cell_type": "markdown",
   "metadata": {},
   "source": [
    "## Plot heatmap of ordering matrix"
   ]
  },
  {
   "cell_type": "code",
   "execution_count": null,
   "metadata": {},
   "outputs": [],
   "source": [
    "heatmap(ordered_matrix,  color=:lightrainbow)"
   ]
  }
 ],
 "metadata": {
  "@webio": {
   "lastCommId": null,
   "lastKernelId": null
  },
  "kernelspec": {
   "display_name": "Julia 1.3.0-DEV",
   "language": "julia",
   "name": "julia-1.3"
  },
  "language_info": {
   "file_extension": ".jl",
   "mimetype": "application/julia",
   "name": "julia",
   "version": "1.3.0"
  }
 },
 "nbformat": 4,
 "nbformat_minor": 2
}
